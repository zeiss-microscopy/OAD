{
 "cells": [
  {
   "cell_type": "code",
   "execution_count": null,
   "metadata": {
    "colab": {
     "base_uri": "https://localhost:8080/"
    },
    "id": "cHZX_QBJAsxR",
    "outputId": "81d368f6-4b14-479c-cf2f-12574f460fe9",
    "pycharm": {
     "is_executing": true
    }
   },
   "outputs": [],
   "source": [
    "# Install czmodel and dependencies\n",
    "! pip install --upgrade pip\n",
    "! pip install \"czmodel[pytorch]>=6,<7\""
   ]
  },
  {
   "cell_type": "code",
   "execution_count": null,
   "metadata": {
    "id": "XCOyzv2frEEE"
   },
   "outputs": [],
   "source": [
    "# This can be used to switch on/off warnings\n",
    "import warnings\n",
    "warnings.filterwarnings('ignore')\n",
    "warnings.simplefilter('ignore')"
   ]
  },
  {
   "cell_type": "markdown",
   "metadata": {},
   "source": [
    "## Introduction\n",
    "The library [CZModel](https://pypi.org/project/czmodel/) provides a base package and extras for export functionalities that require specific dependencies -:\n",
    "\n",
    "- ```pip install czmodel``` - This would only install base dependencies, no Tensorflow-/Pytorch-specific packages.\n",
    "- ```pip install czmodel[tensorflow]``` - This would install base and Tensorflow-specific packages.\n",
    "- ```pip install czmodel[pytorch]``` - This would install base and Pytorch-specific packages.\n",
    "\n",
    "**This is an example notebook for regression task with czmodel[pytorch].**"
   ]
  },
  {
   "cell_type": "markdown",
   "metadata": {
    "id": "2BHRgA5LrEEE"
   },
   "source": [
    "## Imports"
   ]
  },
  {
   "cell_type": "code",
   "execution_count": null,
   "metadata": {
    "id": "rV-5PAIarEEF"
   },
   "outputs": [],
   "source": [
    "# Required imports to train a simple PyTorch model for regression and package it as CZANN.\n",
    "# The CZANN can then be imported in ZEN and used for regression workflows (e.g. denoising).\n",
    "\n",
    "# General imports\n",
    "import os\n",
    "import torch\n",
    "import torch.nn as nn\n",
    "from matplotlib import pyplot as plt\n",
    "\n",
    "# Function provided by the PyPI package called czmodel (by ZEISS)\n",
    "from czmodel import ModelMetadata, ModelType\n",
    "from czmodel.pytorch import ModelSpec\n",
    "from czmodel.pytorch import DefaultConverter"
   ]
  },
  {
   "cell_type": "code",
   "execution_count": null,
   "metadata": {
    "colab": {
     "base_uri": "https://localhost:8080/"
    },
    "id": "g5JozIXsrEEF",
    "outputId": "72d540f7-4301-4b79-d79f-affeeb771bf6"
   },
   "outputs": [],
   "source": [
    "# Optional: suppress PyTorch warnings\n",
    "import logging\n",
    "logging.getLogger(\"pytorch\").setLevel(logging.ERROR)\n",
    "print(torch.__version__)"
   ]
  },
  {
   "cell_type": "code",
   "execution_count": null,
   "metadata": {},
   "outputs": [],
   "source": [
    "# Use GPU if available otherwise CPU\n",
    "device = torch.device('cuda' if torch.cuda.is_available() else 'cpu')\n",
    "print(device)"
   ]
  },
  {
   "cell_type": "markdown",
   "metadata": {
    "id": "DdhLWPEPrEEF"
   },
   "source": [
    "## Training Pipeline\n",
    "This section describes a simple training procedure that creates a trained PyTorch model.\n",
    "\n",
    "* Therefore, it only represents the custom training procedure\n",
    "* Such procedure will vary from case to case and will contain more sophisticated ways to generate an optimized PyTorch model"
   ]
  },
  {
   "cell_type": "markdown",
   "metadata": {
    "id": "9BIyRQoWrEEF"
   },
   "source": [
    "### Define parameters for data loading"
   ]
  },
  {
   "cell_type": "code",
   "execution_count": null,
   "metadata": {
    "id": "BoxrbCmwrEEF"
   },
   "outputs": [],
   "source": [
    "# Folder containing the input images\n",
    "IMAGES_FOLDER = 'Mouse_Kidney_images/images/'\n",
    "\n",
    "# Folder containing the ground truth regression labels\n",
    "# Regression labels contain a real number for each pixel\n",
    "LABELS_FOLDER = 'Mouse_Kidney_images/labels/'\n",
    "\n",
    "# Path to the data on GitHub\n",
    "GITHUB_TRAINING_DATA_PATH = 'https://raw.githubusercontent.com/zeiss-microscopy/OAD/master/Machine_Learning/notebooks/czmodel/Mouse_Kidney_images.zip'\n",
    "GITHUB_MODEL_CONVERSION_SPEC_PATH = 'https://raw.githubusercontent.com/zeiss-microscopy/OAD/master/Machine_Learning/notebooks/czmodel/regression_conversion_spec_pytorch.json'\n",
    "\n",
    "# Define the number of input color channels\n",
    "# This means that the inputs are grayscale with one channel only\n",
    "CHANNELS = 1 \n",
    "\n",
    "# The size of image crops to train the model with\n",
    "CROP_SIZE = 512"
   ]
  },
  {
   "cell_type": "markdown",
   "metadata": {
    "id": "0JUvTmdVrEEF"
   },
   "source": [
    "### Download data if it's not available on disk\n",
    "If this notebook is run e.g. as a colab notebook, it does not have access to the data folder on gitub via disk access. \n",
    "In that case we need to download the data from github first."
   ]
  },
  {
   "cell_type": "code",
   "execution_count": null,
   "metadata": {
    "id": "LKeWmEpSrEEF"
   },
   "outputs": [],
   "source": [
    "import requests\n",
    "\n",
    "# Download training data\n",
    "if not (os.path.isdir(IMAGES_FOLDER) and os.path.isdir(LABELS_FOLDER)):\n",
    "    compressed_data = './Mouse_Kidney_images.zip'\n",
    "    if not os.path.isfile(compressed_data):\n",
    "        import io\n",
    "        response = requests.get(GITHUB_TRAINING_DATA_PATH, stream=True)\n",
    "        compressed_data = io.BytesIO(response.content)\n",
    "        \n",
    "    import zipfile\n",
    "    with zipfile.ZipFile(compressed_data, 'r') as zip_accessor:\n",
    "        zip_accessor.extractall('./')\n",
    "        \n",
    "# Download model conversion spec\n",
    "if not os.path.isfile('regression_conversion_spec_pytorch.json'):\n",
    "    response = requests.get(GITHUB_MODEL_CONVERSION_SPEC_PATH, stream=True)\n",
    "    with open('regression_conversion_spec_pytorch.json', 'wb') as handle:\n",
    "        handle.write(response.content)"
   ]
  },
  {
   "cell_type": "markdown",
   "metadata": {
    "id": "h9B-lhwXrEEG"
   },
   "source": [
    "### Define a PyTorch dataset to pre-process the images\n",
    "Since the dataset contains very large images we need to train on smaller crops in order to not exhaust the GPU memory"
   ]
  },
  {
   "cell_type": "code",
   "execution_count": null,
   "metadata": {
    "id": "hrIPBmrkrEEG"
   },
   "outputs": [],
   "source": [
    "from torch.utils.data import DataLoader, Dataset\n",
    "import torchvision\n",
    "import torchvision.transforms.functional as TF\n",
    "import cv2\n",
    "\n",
    "# Dataset class\n",
    "class SampleDataset(Dataset):\n",
    "    def __init__(self, images_folder:str, labels_folder:str, transforms: torchvision.transforms=None):\n",
    "        self.sample_images = sorted([os.path.join(images_folder, f) for f in os.listdir(images_folder) \n",
    "                                    if os.path.isfile(os.path.join(images_folder, f))])\n",
    "        self.sample_labels = sorted([os.path.join(labels_folder, f) for f in os.listdir(labels_folder) \n",
    "                                    if os.path.isfile(os.path.join(labels_folder, f))])\n",
    "        self.transforms = transforms\n",
    "\n",
    "    def __getitem__(self, idx: int):\n",
    "        image = self.sample_images[idx]\n",
    "        label = self.sample_labels[idx]\n",
    "        img = cv2.imread(image, cv2.IMREAD_GRAYSCALE)\n",
    "        labl = cv2.imread(label, cv2.IMREAD_GRAYSCALE) \n",
    "\n",
    "        if self.transforms is not None:\n",
    "            img = self.transforms(img)\n",
    "            labl = self.transforms(labl)\n",
    "            \n",
    "        # Randomly crop the image\n",
    "        i, j, h, w = torchvision.transforms.RandomCrop.get_params(img, output_size=(CROP_SIZE, CROP_SIZE))\n",
    "        img = TF.crop(img, i, j, h, w)\n",
    "        labl = TF.crop(labl, i, j, h, w)\n",
    "\n",
    "        return img.to(torch.float32), labl.to(torch.float32)\n",
    "\n",
    "    def __len__(self):\n",
    "        return len(self.sample_images)"
   ]
  },
  {
   "cell_type": "code",
   "execution_count": null,
   "metadata": {},
   "outputs": [],
   "source": [
    "# Define transforms\n",
    "from torchvision import transforms\n",
    "transforms = transforms.Compose([\n",
    "    transforms.ToTensor(),\n",
    "])\n",
    "\n",
    "# Create dataset and dataloader\n",
    "sample_dataset = SampleDataset(images_folder=IMAGES_FOLDER,\n",
    "                               labels_folder=LABELS_FOLDER,\n",
    "                               transforms=transforms)\n",
    "\n",
    "sample_dataloader = DataLoader(dataset=sample_dataset,\n",
    "                                      batch_size=2,\n",
    "                                      shuffle=True)"
   ]
  },
  {
   "cell_type": "markdown",
   "metadata": {
    "id": "ZRujNv7nrEEG"
   },
   "source": [
    "### Define a simple model\n",
    "This part defines a simple PyTorch convolutional model for regression task."
   ]
  },
  {
   "cell_type": "code",
   "execution_count": null,
   "metadata": {
    "id": "prtTh7t2ZubC"
   },
   "outputs": [],
   "source": [
    "# Define simple PyTorch convolutional model\n",
    "class SampleModel(nn.Module):\n",
    "\n",
    "    def __init__(self):\n",
    "        super(SampleModel, self).__init__()\n",
    "        self.model = nn.Sequential(\n",
    "            # Encoder\n",
    "            nn.Conv2d(1, 16, 3, padding=1),  \n",
    "            nn.ReLU(),\n",
    "            nn.MaxPool2d(2, padding=0),\n",
    "            nn.Conv2d(16, 16, 3, padding=1),  \n",
    "            nn.ReLU(),\n",
    "            nn.MaxPool2d(2, padding=0),\n",
    "            nn.Conv2d(16, 16, 3, padding=1),  \n",
    "            nn.ReLU(),\n",
    "            # Decoder\n",
    "            nn.Upsample(scale_factor=2, mode='bilinear'),\n",
    "            nn.Conv2d(16, 16, 3, padding=1),  \n",
    "            nn.ReLU(),\n",
    "            nn.Upsample(scale_factor=2, mode='bilinear'),\n",
    "            nn.Conv2d(16, 1, 3, padding=1),              \n",
    "        )\n",
    "\n",
    "    def forward(self, x: torch.Tensor):\n",
    "        x = self.model(x)\n",
    "        return x\n",
    "\n",
    "\n",
    "model = SampleModel().to(device)"
   ]
  },
  {
   "cell_type": "markdown",
   "metadata": {
    "id": "mdaAOFWxrEEG"
   },
   "source": [
    "### Training the model with the loaded data\n",
    "This part fits the model to the loaded data. In this test example we do not care about an actual evaluation of the model using validation and test datasets."
   ]
  },
  {
   "cell_type": "code",
   "execution_count": null,
   "metadata": {},
   "outputs": [],
   "source": [
    "# Define the number of training epochs\n",
    "NUM_EPOCHS = 30\n",
    "\n",
    "# Define loss function and optimizer\n",
    "loss_fn = torch.nn.MSELoss()\n",
    "optimizer = torch.optim.Adam(model.parameters(), lr=1e-3, eps=1e-08)"
   ]
  },
  {
   "cell_type": "code",
   "execution_count": null,
   "metadata": {},
   "outputs": [],
   "source": [
    "def train_one_epoch(epoch_index: int):\n",
    "    running_loss = 0.\n",
    "\n",
    "    for i, data in enumerate(sample_dataloader):\n",
    "        inputs, labels = data\n",
    "        inputs = inputs.to(device)\n",
    "        labels = labels.to(device)\n",
    "        optimizer.zero_grad()\n",
    "        outputs = model(inputs)\n",
    "\n",
    "        loss = loss_fn(outputs, labels)\n",
    "        loss.backward()\n",
    "\n",
    "        optimizer.step()\n",
    "        running_loss += loss.item()\n",
    "\n",
    "    return running_loss"
   ]
  },
  {
   "cell_type": "code",
   "execution_count": null,
   "metadata": {
    "id": "99kOKKv4tJOK"
   },
   "outputs": [],
   "source": [
    "from typing import List\n",
    "def plot_history(loss: List):\n",
    "    plt.plot(loss)\n",
    "    plt.title('training loss')\n",
    "    plt.ylabel('loss')\n",
    "    plt.xlabel('epoch')\n",
    "    plt.show()"
   ]
  },
  {
   "cell_type": "code",
   "execution_count": null,
   "metadata": {
    "colab": {
     "base_uri": "https://localhost:8080/",
     "height": 1000
    },
    "id": "hY5nMzGVrEEG",
    "outputId": "81245272-1cca-4812-ce96-e966f40d909d",
    "scrolled": false
   },
   "outputs": [],
   "source": [
    "training_loss = []\n",
    "for epoch in range( NUM_EPOCHS):\n",
    "    loss = train_one_epoch(epoch)\n",
    "    training_loss.append(loss)\n",
    "    print(f'Epoch {epoch+1}, loss %2e'%(loss))\n",
    "\n",
    "# Plot the training history\n",
    "plot_history(training_loss)"
   ]
  },
  {
   "cell_type": "code",
   "execution_count": null,
   "metadata": {
    "colab": {
     "base_uri": "https://localhost:8080/",
     "height": 309
    },
    "id": "cgU2oygWyBVC",
    "outputId": "080cdba2-66c0-4263-cd83-af1a1cd74c12"
   },
   "outputs": [],
   "source": [
    "# Plot the training results\n",
    "images_labels  = next(iter(sample_dataloader))\n",
    "image, label = images_labels\n",
    "\n",
    "plt.figure(figsize=(16,16))\n",
    "# Plot the inputs\n",
    "plt.subplot(1,3,1)\n",
    "plt.axis('off')\n",
    "plt.title('Inputs')\n",
    "plt.imshow(image[0, 0, ...], cmap='gray')\n",
    "\n",
    "# Plot the predictions\n",
    "prediction = model(image.to(device))\n",
    "plt.subplot(1,3,2)\n",
    "plt.axis('off')\n",
    "plt.title('Predictions')\n",
    "plt.imshow(prediction.cpu().detach().numpy()[0, 0, ...], cmap='gray')\n",
    "\n",
    "# Plot the ground truth labels\n",
    "plt.subplot(1,3,3)\n",
    "plt.axis('off')\n",
    "plt.title('Ground truth labels')\n",
    "plt.imshow(label[0, 0, ...], cmap='gray')\n",
    "plt.show()"
   ]
  },
  {
   "cell_type": "code",
   "execution_count": null,
   "metadata": {},
   "outputs": [],
   "source": [
    "# Move the model to cpu\n",
    "PATH = './saved_torch_regression_model.pt'\n",
    "model.cpu()\n",
    "torch.save(model, PATH)"
   ]
  },
  {
   "cell_type": "markdown",
   "metadata": {
    "id": "GvLa6DMdrEEG"
   },
   "source": [
    "## Create a CZANN from the trained PyTorch model\n",
    "In this section we export the trained model to the CZANN format using the czmodel library and some additional meta data. All possible parameter choices are described in the [ANN model specification](https://pypi.org/project/czmodel/)."
   ]
  },
  {
   "cell_type": "markdown",
   "metadata": {
    "id": "-JtOarJOrEEG"
   },
   "source": [
    "### Define Meta Data\n",
    "We first define the meta data needed to run the model within the Intellesis infrastructure. The `czmodel` package offers a named tuple `ModelMetadata` that allows to either parse as JSON file as described in the [specification document](https://pypi.org/project/czmodel/) or to directly specify the parameters as shown below."
   ]
  },
  {
   "cell_type": "markdown",
   "metadata": {
    "id": "8kIoXhHQrEEG"
   },
   "source": [
    "### Create a Model Specification Object\n",
    "The export functions provided by the `czmodel` package expect a `ModelSpec` tuple that features the PyTorch model to be exported, the corresponding model meda data and optionally a license file for the model.\n",
    "\n",
    "Therefore, we wrap our model and the `model_metadata` instance into a `ModelSpec` object."
   ]
  },
  {
   "cell_type": "code",
   "execution_count": null,
   "metadata": {
    "id": "OHmyTPUsrEEG"
   },
   "outputs": [],
   "source": [
    "# Define dimensions - ZEN Intellesis requires fully defined spatial dimensions in the meta data of the CZANN model.\n",
    "# The ZEN TilingClient uses the input shape in the meta data to infer the tile size to pass an image to the inferencer.\n",
    "# Important: The tile size has to be chosen s.t. inference is possible with the minimum hardware requirements of Intellesis\n",
    "# Optional: Define target spatial dimensions of the model for inference.\n",
    "input_size = 512\n",
    "\n",
    "# Define the model metadata\n",
    "model_metadata = ModelMetadata(\n",
    "    input_shape=[input_size, input_size, CHANNELS],\n",
    "    output_shape=[input_size, input_size, CHANNELS],\n",
    "    model_type=ModelType.REGRESSION,\n",
    "    model_name=\"Simple_Kidney_RegressionModel\",\n",
    "    min_overlap=[8, 8],\n",
    "    scaling=(1.0, 1.0),\n",
    ")\n",
    "\n",
    "model_spec = ModelSpec(\n",
    "    model=model,\n",
    "    model_metadata=model_metadata,\n",
    "    license_file=None\n",
    ")"
   ]
  },
  {
   "cell_type": "markdown",
   "metadata": {
    "id": "oh92i7lCrEEH"
   },
   "source": [
    "### Perform model export into *.czann  file format\n",
    "\n",
    "The converters from the `czmodel` library offers two functions to perform the actual export. \n",
    "\n",
    "* `convert_from_json_spec` allows to provide a JSON file containing all the information of a ModelSpec object and converts a model in SavedModel format on disk to a `.czann` file that can be loaded with ZEN.\n",
    "* `convert_from_model_spec` expects a `ModelSpec` object, an output path and name and optionally target spatial dimensions for the expected input of the exported model. From this information it creates a `.czann`  file containing the specified model.\n",
    "\n",
    "Currently, `czmodel` offers one converter for a regression model:\n",
    "* DefaultConverter: Converts a model to a *.czann file."
   ]
  },
  {
   "cell_type": "code",
   "execution_count": null,
   "metadata": {
    "colab": {
     "base_uri": "https://localhost:8080/"
    },
    "id": "jBMuGY9OrEEH",
    "outputId": "dfeeb442-b106-4e35-c374-3b7add988be7"
   },
   "outputs": [],
   "source": [
    "DefaultConverter().convert_from_model_spec(\n",
    "    model_spec=model_spec, \n",
    "    output_path='./', \n",
    "    output_name='simple_pytorch_kidney_regmodel',\n",
    "    input_shape=(CHANNELS, input_size, input_size),\n",
    ")\n",
    "\n",
    "# In the example above there will be a \"\"./czmodel_output/simple_pytorch_kidney_regmodel.czann\" file saved on disk."
   ]
  },
  {
   "cell_type": "markdown",
   "metadata": {
    "id": "LSNuJXv5rEEH"
   },
   "source": [
    "## Remarks\n",
    "The generated .czann file can be directly loaded into ZEN Intellesis to perform regression tasks with the trained model.\n",
    "If there is already a trained model in SavedModel format present on disk, it can also be converted by providing the path to the saved model directory instead of a PyTorch `Module` object. The `czmodel` library will implicitly load the model from the provided path."
   ]
  },
  {
   "cell_type": "markdown",
   "metadata": {
    "id": "XRUjfIherEEH"
   },
   "source": [
    "The `czmodel` library also provides a `convert_from_json_spec` function that accepts a JSON file with the above mentioned meta data behind the key `ModelMetadata` which will implicitly be deserialized into a `ModelMetadata` object, the model path and optionally a license file:\n",
    "```json\n",
    "{\n",
    "    \"ModelMetadata\": {\n",
    "        \"Type\": \"Regression\",\n",
    "        \"InputShape\": [512, 512, 1],\n",
    "        \"OutputShape\": [512, 512, 1],\n",
    "        \"ModelName\": \"Regression Model From JSON\",\n",
    "        \"MinOverlap\": [8, 8],\n",
    "        \"Scaling\": [1.0, 1.0]\n",
    "    },\n",
    "    \"ModelPath\": \"./saved_torch_regression_model.pt\",\n",
    "    \"LicenseFile\": null\n",
    "}\n",
    "```\n",
    "\n",
    "This information can be copied to a file e.g. in the current working directory `./model_conversion_spec.json` that also contains the trained model in SavedModel format e.g. generated by the following line:"
   ]
  },
  {
   "cell_type": "code",
   "execution_count": null,
   "metadata": {
    "colab": {
     "base_uri": "https://localhost:8080/"
    },
    "id": "vhDdKxxlrEEH",
    "outputId": "fc04f599-6611-4757-ff15-061aa7568a4c"
   },
   "outputs": [],
   "source": [
    "# This is an additional way to create a CZANN from a saved PyTorch model on disk + JSON file.\n",
    "# The currently recommended way to to create the CZANN directly by using czmodel.convert_from_model_spec\n",
    "# the path to the saved Pytorch is defined in the JSON shown above\n",
    "\n",
    "DefaultConverter().convert_from_json_spec(\n",
    "    model_spec_path='regression_conversion_spec_pytorch.json',\n",
    "    output_path='./',\n",
    "    output_name = 'simple_kidney_regmodel_from_json_pytorch',\n",
    "    input_shape=(CHANNELS, input_size, input_size),\n",
    ")"
   ]
  },
  {
   "cell_type": "markdown",
   "metadata": {
    "id": "bu-S1tg_Asxi"
   },
   "source": [
    "Use the commands below from a terminal to present the notebook as a slideshow.\n",
    "\n",
    "`\n",
    "jupyter nbconvert Regression_PyTorch_5_0_0.ipynb --to slides --post serve\n",
    "    --SlidesExporter.reveal_theme=serif \n",
    "    --SlidesExporter.reveal_scroll=True \n",
    "    --SlidesExporter.reveal_transition=none\n",
    "`"
   ]
  }
 ],
 "metadata": {
  "accelerator": "GPU",
  "colab": {
   "collapsed_sections": [
    "-JtOarJOrEEG"
   ],
   "name": "Regresssion_PyTorch_5_0_0.ipynb",
   "provenance": []
  },
  "kernelspec": {
   "display_name": "Python 3 (ipykernel)",
   "language": "python",
   "name": "python3"
  },
  "language_info": {
   "codemirror_mode": {
    "name": "ipython",
    "version": 3
   },
   "file_extension": ".py",
   "mimetype": "text/x-python",
   "name": "python",
   "nbconvert_exporter": "python",
   "pygments_lexer": "ipython3",
   "version": "3.7.13"
  }
 },
 "nbformat": 4,
 "nbformat_minor": 1
}
