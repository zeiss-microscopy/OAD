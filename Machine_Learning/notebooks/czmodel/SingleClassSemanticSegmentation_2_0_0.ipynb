{
 "cells": [
  {
   "cell_type": "code",
   "execution_count": null,
   "metadata": {
    "colab": {
     "base_uri": "https://localhost:8080/"
    },
    "id": "cHZX_QBJAsxR",
    "outputId": "6710984f-7d19-4ec8-d52b-69cf0c57c463",
    "slideshow": {
     "slide_type": "skip"
    }
   },
   "outputs": [],
   "source": [
    "# Install czmodel and dependencies\n",
    "! pip install --upgrade pip\n",
    "! pip install \"czmodel>=2.0,<2.1\""
   ]
  },
  {
   "cell_type": "code",
   "execution_count": null,
   "metadata": {
    "id": "j5_xbvxuAsxV",
    "slideshow": {
     "slide_type": "skip"
    }
   },
   "outputs": [],
   "source": [
    "# This can be used to switch on/off warnings\n",
    "import warnings\n",
    "warnings.filterwarnings('ignore')\n",
    "warnings.simplefilter('ignore')"
   ]
  },
  {
   "cell_type": "markdown",
   "metadata": {
    "id": "nQ3IRLvTAsxW",
    "slideshow": {
     "slide_type": "slide"
    }
   },
   "source": [
    "# Simple TF2 + Keras model for segmentation (to detect cell nuclei)\n",
    "This notebook the entire workflow of training an ANN with [TensorFlow 2](https://www.tensorflow.org/) using the keras API and exporting the trained model to the [CZANN format](https://pypi.org/project/czmodel/) to be ready for use within the [Intellesis](https://www.zeiss.de/mikroskopie/produkte/mikroskopsoftware/zen-intellesis-image-segmentation-by-deep-learning.html) infrastructure.\n",
    "\n",
    "* The trained model is rather simple (for demo purposes) and trained on a small test dataset.\n",
    "* **Therefore, this notebook is meant to be understood as a guide for exporting trained models.**\n",
    "* **The notebook does not provide instructions how train a model correctly.**"
   ]
  },
  {
   "cell_type": "markdown",
   "metadata": {
    "id": "Cu9fv3kAAsxX",
    "slideshow": {
     "slide_type": "slide"
    }
   },
   "source": [
    "## Imports"
   ]
  },
  {
   "cell_type": "code",
   "execution_count": null,
   "metadata": {
    "id": "wt7s_-SeAsxX",
    "slideshow": {
     "slide_type": "fragment"
    }
   },
   "outputs": [],
   "source": [
    "# Required imports to train a simple TF2 + Keras model for segmentation and package it as CZANN.\n",
    "# The CZANN can then be imported in ZEN and used for segmentation and image analysis workflows.\n",
    "\n",
    "# General imports\n",
    "import os\n",
    "import tensorflow as tf\n",
    "import numpy as np\n",
    "\n",
    "# Function provided by the PyPI package called czmodel (by ZEISS)\n",
    "from czmodel.model_metadata import ModelMetadata, ModelSpec, ModelType\n",
    "from czmodel import convert_from_model_spec, convert_from_json_spec\n",
    "from czmodel.util.transforms import Shift, Scale"
   ]
  },
  {
   "cell_type": "code",
   "execution_count": null,
   "metadata": {
    "id": "I1g8iYwXAsxY",
    "outputId": "967b9037-3264-4fa0-d0a5-10748e8b5597",
    "slideshow": {
     "slide_type": "skip"
    }
   },
   "outputs": [],
   "source": [
    "# Optional: suppress TF warnings\n",
    "import logging\n",
    "logging.getLogger(\"tensorflow\").setLevel(logging.ERROR)\n",
    "print(tf.version.GIT_VERSION, tf.__version__)"
   ]
  },
  {
   "cell_type": "markdown",
   "metadata": {
    "id": "Y7UMTdi3AsxY",
    "slideshow": {
     "slide_type": "slide"
    }
   },
   "source": [
    "## Training Pipeline\n",
    "This section describes a simple training procedure that creates a trained Keras model.\n",
    "\n",
    "* Therefore, it only represents the custom training procedure\n",
    "* Such procedure will vary from case to case and will contain more sophisticated ways to generate an optimized Keras model"
   ]
  },
  {
   "cell_type": "markdown",
   "metadata": {
    "id": "5M5XQV24AsxZ",
    "slideshow": {
     "slide_type": "slide"
    }
   },
   "source": [
    "### Define parameters for data loading"
   ]
  },
  {
   "cell_type": "code",
   "execution_count": null,
   "metadata": {
    "id": "68g3o9M1Asxa",
    "slideshow": {
     "slide_type": "fragment"
    }
   },
   "outputs": [],
   "source": [
    "# Folder containing the input images\n",
    "IMAGES_FOLDER = 'nucleus_data/images/'\n",
    "\n",
    "# Folder containing the ground truth segmentation masks\n",
    "# Mask images have one channel with a unique value of each class (0=background and 1=nucleus)\n",
    "MASKS_FOLDER = 'nucleus_data/labels/'\n",
    "\n",
    "# Path to the data on GitHub\n",
    "GITHUB_TRAINING_DATA_PATH = 'https://raw.githubusercontent.com/zeiss-microscopy/OAD/master/Machine_Learning/notebooks/czmodel/nucleus_data.zip'\n",
    "GITHUB_MODEL_CONVERSION_SPEC_PATH = 'https://raw.githubusercontent.com/zeiss-microscopy/OAD/master/Machine_Learning/notebooks/czmodel/model_conversion_spec.json'\n",
    "\n",
    "# Define the number of input color channels\n",
    "# This means that the inputs are grayscale with one channel only\n",
    "CHANNELS = 1 \n",
    "\n",
    "# The size of image crops to train the model with\n",
    "CROP_SIZE = 512"
   ]
  },
  {
   "cell_type": "markdown",
   "metadata": {},
   "source": [
    "### Download data if it's not available on disk\n",
    "If this notebook is run e.g. as a colab notebook, it does not have access to the data folder on gitub via disk access. \n",
    "In that case we need to download the data from github first."
   ]
  },
  {
   "cell_type": "code",
   "execution_count": null,
   "metadata": {},
   "outputs": [],
   "source": [
    "import requests\n",
    "\n",
    "# Download training data\n",
    "if not (os.path.isdir(IMAGES_FOLDER) and os.path.isdir(MASKS_FOLDER)):\n",
    "    compressed_data = './nucleus_data.zip'\n",
    "    if not os.path.isfile(compressed_data):\n",
    "        import io\n",
    "        response = requests.get(GITHUB_TRAINING_DATA_PATH, stream=True)\n",
    "        compressed_data = io.BytesIO(response.content)\n",
    "        \n",
    "    import zipfile\n",
    "    with zipfile.ZipFile(compressed_data, 'r') as zip_accessor:\n",
    "        zip_accessor.extractall('./')\n",
    "        \n",
    "# Download model conversion spec\n",
    "if not os.path.isfile('model_conversion_spec.json'):\n",
    "    response = requests.get(GITHUB_MODEL_CONVERSION_SPEC_PATH, stream=True)\n",
    "    with open('model_conversion_spec.json', 'wb') as handle:\n",
    "        handle.write(response.content)"
   ]
  },
  {
   "cell_type": "markdown",
   "metadata": {
    "id": "rBn9VvQqAsxa",
    "slideshow": {
     "slide_type": "slide"
    }
   },
   "source": [
    "### Read images\n",
    "This part contains the logic to read pairs of images and label masks for training"
   ]
  },
  {
   "cell_type": "code",
   "execution_count": null,
   "metadata": {
    "slideshow": {
     "slide_type": "skip"
    }
   },
   "outputs": [],
   "source": [
    "def order_unique_values(mask):\n",
    "    for i, unique_value in enumerate(np.unique(mask)):\n",
    "        mask[mask == unique_value] = i\n",
    "    return mask"
   ]
  },
  {
   "cell_type": "code",
   "execution_count": null,
   "metadata": {
    "slideshow": {
     "slide_type": "fragment"
    }
   },
   "outputs": [],
   "source": [
    "# Determine the paths of the input samples\n",
    "sample_images = sorted([os.path.join(IMAGES_FOLDER, f) for f in os.listdir(IMAGES_FOLDER) \n",
    "                        if os.path.isfile(os.path.join(IMAGES_FOLDER, f))])\n",
    "\n",
    "# Determine the paths of the corresponding masks\n",
    "sample_masks = sorted([os.path.join(MASKS_FOLDER, f) for f in os.listdir(MASKS_FOLDER) \n",
    "                       if os.path.isfile(os.path.join(MASKS_FOLDER, f))])\n",
    "\n",
    "# Load images as numpy arrays and scale to interval [0..1]\n",
    "images_loaded = np.asarray(\n",
    "    [\n",
    "        tf.image.decode_image(\n",
    "            tf.io.read_file(sample_path), channels=CHANNELS, dtype=tf.uint16\n",
    "        ).numpy().astype(np.float32) / (2**16 - 1)\n",
    "        for sample_path in sample_images\n",
    "    ]\n",
    ")"
   ]
  },
  {
   "cell_type": "code",
   "execution_count": null,
   "metadata": {
    "slideshow": {
     "slide_type": "slide"
    }
   },
   "outputs": [],
   "source": [
    "# Normalize images\n",
    "images_mean = images_loaded.mean(axis=(0,1,2))\n",
    "images_std = images_loaded.std(axis=(0,1,2))\n",
    "images_loaded = (images_loaded - images_mean) / images_std"
   ]
  },
  {
   "cell_type": "code",
   "execution_count": null,
   "metadata": {
    "id": "_LeY182oAsxb",
    "scrolled": true,
    "slideshow": {
     "slide_type": "slide"
    }
   },
   "outputs": [],
   "source": [
    "# Load labels as numpy arrays amd convert to one-hot representation\n",
    "masks_loaded = np.asarray([\n",
    "    tf.one_hot(\n",
    "        tf.convert_to_tensor(\n",
    "            order_unique_values(tf.image.decode_image(tf.io.read_file(sample_path), channels=1)[...,0].numpy())\n",
    "        ), depth=2\n",
    "    ).numpy()\n",
    "    for sample_path in sample_masks\n",
    "])"
   ]
  },
  {
   "cell_type": "markdown",
   "metadata": {
    "id": "nl-iCU3VAsxb",
    "slideshow": {
     "slide_type": "fragment"
    }
   },
   "source": [
    "Remark: For details see [tf.one_hot](https://www.tensorflow.org/api_docs/python/tf/one_hot)\n",
    "\n",
    "`tf.one_hot creates X channels from X labels: 1 => [0.0, 1.0], 0 => [1.0, 0.0]`"
   ]
  },
  {
   "cell_type": "markdown",
   "metadata": {
    "slideshow": {
     "slide_type": "slide"
    }
   },
   "source": [
    "### Define a TensorFlow dataset to pre-process the images\n",
    "Since the dataset contains very large images we need to train on smaller crops in order to not exhaust the GPU memory"
   ]
  },
  {
   "cell_type": "code",
   "execution_count": null,
   "metadata": {
    "slideshow": {
     "slide_type": "fragment"
    }
   },
   "outputs": [],
   "source": [
    "# Define a simple random crop transformation to train on smaller crops\n",
    "def random_crop(image, mask, height, width):\n",
    "    stacked = tf.concat([image, mask], axis=-1)\n",
    "    stacked_cropped = tf.image.random_crop(\n",
    "        stacked,\n",
    "        size=tf.stack([height, width, tf.shape(image)[-1] + tf.shape(mask)[-1]], axis=0)\n",
    "    )\n",
    "    image_cropped = stacked_cropped[..., :tf.shape(image)[-1]]\n",
    "    mask_cropped = stacked_cropped[..., tf.shape(image)[-1]:]\n",
    "    return image_cropped, mask_cropped\n",
    "\n",
    "# Define a TensorFlow dataset applying the random crop and batching the training data.\n",
    "dataset = tf.data.Dataset.from_tensor_slices(\n",
    "    ((images_loaded, masks_loaded))\n",
    ").map(\n",
    "    lambda x, y: random_crop(x, y, CROP_SIZE, CROP_SIZE)\n",
    ").shuffle(10).batch(8)"
   ]
  },
  {
   "cell_type": "markdown",
   "metadata": {
    "id": "KcumQa0yAsxb",
    "slideshow": {
     "slide_type": "slide"
    }
   },
   "source": [
    "### Define a simple model\n",
    "This part defines a simple Keras model with two convolutional layers and softmax activation at the output node. It is also possible to add pre-processing layers to the model here."
   ]
  },
  {
   "cell_type": "code",
   "execution_count": null,
   "metadata": {
    "id": "jW6eR6s8Asxc",
    "slideshow": {
     "slide_type": "fragment"
    }
   },
   "outputs": [],
   "source": [
    "# Define simple Keras model with two convolutional layers and softmax activation at the output node\n",
    "model = tf.keras.models.Sequential(\n",
    "    [\n",
    "        tf.keras.layers.Conv2D(16, 3, padding='same'), \n",
    "        tf.keras.layers.Conv2D(2, 1, activation='softmax', padding='same')\n",
    "    ]\n",
    ")\n",
    "\n",
    "# compile the model\n",
    "model.compile(optimizer='adam', loss='categorical_crossentropy', metrics=['categorical_accuracy'])"
   ]
  },
  {
   "cell_type": "markdown",
   "metadata": {
    "id": "MpBMYhGzAsxc",
    "slideshow": {
     "slide_type": "slide"
    }
   },
   "source": [
    "### Fit the model to the loaded data\n",
    "This part fits the model to the loaded data. In this test example we do not care about an actual evaluation of the model using validation and test datasets."
   ]
  },
  {
   "cell_type": "code",
   "execution_count": null,
   "metadata": {
    "id": "jSSU22TtAsxd",
    "outputId": "7854dc6c-3fc4-426c-a5c3-6328b0c5f4c8",
    "slideshow": {
     "slide_type": "fragment"
    }
   },
   "outputs": [],
   "source": [
    "# define number of training epochs\n",
    "NUM_EPOCHS = 25\n",
    "\n",
    "# fit the model to the data\n",
    "model.fit(dataset, epochs=NUM_EPOCHS)"
   ]
  },
  {
   "cell_type": "markdown",
   "metadata": {
    "id": "aYV2aL42Asxd",
    "slideshow": {
     "slide_type": "slide"
    }
   },
   "source": [
    "## Create a CZANN from the trained Keras model\n",
    "In this section we export the trained model to the CZANN format using the czmodel library and some additional meta data all possible parameter choices are described in the [ANN model specification](https://pypi.org/project/czmodel/)."
   ]
  },
  {
   "cell_type": "markdown",
   "metadata": {
    "id": "OF8bt-ZGAsxd",
    "slideshow": {
     "slide_type": "slide"
    }
   },
   "source": [
    "### Define Meta Data\n",
    "We first define the meta data needed to run the model within the Intellesis infrastructure. The `czmodel` package offers a named tuple `ModelMetadata` that allows to either parse as JSON file as described in the [specification document](https://pypi.org/project/czmodel/) or to directly specify the parameters as shown below."
   ]
  },
  {
   "cell_type": "markdown",
   "metadata": {
    "slideshow": {
     "slide_type": "slide"
    }
   },
   "source": [
    "### Create a Model Specification Object\n",
    "The export functions provided by the `czmodel` package expect a `ModelSpec` tuple that features the Keras model to be exported, the corresponding model meda data and optionally a license file for the model.\n",
    "\n",
    "Therefore, we wrap our model and the `model_metadata` instance into a `ModelSpec` object."
   ]
  },
  {
   "cell_type": "code",
   "execution_count": null,
   "metadata": {
    "id": "KfpCKOp2Asxe",
    "slideshow": {
     "slide_type": "fragment"
    }
   },
   "outputs": [],
   "source": [
    "# Define dimensions - ZEN Intellesis requires fully defined spatial dimensions in the meta data of the CZANN model.\n",
    "# The ZEN TilingClient uses the input shape in the meta data to infer the tile size to pass an image to the inferencer.\n",
    "# Important: The tile size has to be chosen s.t. inference is possible with the minimum hardware requirements of Intellesis\n",
    "# Optional: Define target spatial dimensions of the model for inference.\n",
    "input_size = 1024\n",
    "\n",
    "# Define the model metadata\n",
    "model_metadata = ModelMetadata(\n",
    "    input_shape=[input_size, input_size, 1],\n",
    "    output_shape=[input_size, input_size, 2],\n",
    "    model_type=ModelType.SINGLE_CLASS_SEMANTIC_SEGMENTATION,\n",
    "    classes=[\"Background\", \"Nucleus\"],\n",
    "    model_name=\"Simple_Nuclei_SegmentationModel\",\n",
    "    min_overlap=[8, 8],\n",
    ")\n",
    "model_spec = ModelSpec(\n",
    "    model=model,\n",
    "    model_metadata=model_metadata,\n",
    "    license_file=None\n",
    ")\n",
    "\n",
    "# Define pre-processing\n",
    "preprocessing = [\n",
    "    Shift(-images_mean),\n",
    "    Scale(1.0 / images_std)\n",
    "]"
   ]
  },
  {
   "cell_type": "markdown",
   "metadata": {
    "id": "aMzxQONdAsxe",
    "slideshow": {
     "slide_type": "slide"
    }
   },
   "source": [
    "### Perform model export into *.czann file format\n",
    "\n",
    "The `czmodel` library offers two functions to perform the actual export. \n",
    "\n",
    "* `convert_from_json_spec` allows to provide a JSON file containing all the information of a ModelSpec object and converts a model in SavedModel format on disk to a `.czann` file that can be loaded with ZEN.\n",
    "* `convert_from_model_spec` expects a `ModelSpec` object, an output path and name and optionally target spatial dimensions for the expected input of the exported model. From this information it creates a `.czann` file containing the specified model."
   ]
  },
  {
   "cell_type": "code",
   "execution_count": null,
   "metadata": {
    "id": "3hfDNDwOAsxe",
    "slideshow": {
     "slide_type": "fragment"
    }
   },
   "outputs": [],
   "source": [
    "convert_from_model_spec(\n",
    "    model_spec=model_spec, \n",
    "    output_path='./', \n",
    "    output_name='simple_nuclei_segmodel',\n",
    "    spatial_dims=(input_size, input_size),\n",
    "    preprocessing=preprocessing\n",
    ")\n",
    "\n",
    "# In the example above there will be a \"\"./czmodel_output/simple_nuclei_segmodel.czann\" file saved on disk."
   ]
  },
  {
   "cell_type": "markdown",
   "metadata": {
    "id": "rRA1rIS-Asxf",
    "slideshow": {
     "slide_type": "slide"
    }
   },
   "source": [
    "## Remarks\n",
    "The generated .czann file can be directly loaded into ZEN Intellesis to perform segmentation tasks with the trained model.\n",
    "If there is already a trained model in SavedModel format present on disk, it can also be converted by providing the path to the saved model directory instead of a Keras `Model` object. The `czmodel` library will implicitly load the model from the provided path."
   ]
  },
  {
   "cell_type": "markdown",
   "metadata": {
    "id": "8kF_QR6BAsxi",
    "slideshow": {
     "slide_type": "slide"
    }
   },
   "source": [
    "The `czmodel` library also provides a `convert_from_json_spec` function that accepts a JSON file with the above mentioned meta data behind the key `ModelMetadata` which will implicitly be deserialized into a `ModelMetadata` object, the model path and optionally a license file:\n",
    "```json\n",
    "{\n",
    "    \"ModelMetadata\": {\n",
    "        \"Type\": \"SingleClassSemanticSegmentation\",\n",
    "        \"Classes\": [\"Background\", \"Nucleus\"],\n",
    "        \"InputShape\": [1024, 1024, 1],\n",
    "        \"OutputShape\": [1024, 1024, 2],\n",
    "        \"ModelName\": \"Nuclei Segmentation Model From JSON\",\n",
    "        \"MinOverlap\": [8, 8]\n",
    "    },\n",
    "    \"ModelPath\": \"./saved_tf2_model_output/\",\n",
    "    \"LicenseFile\": null\n",
    "}\n",
    "```\n",
    "\n",
    "This information can be copied to a file e.g. in the current working directory `./model_conversion_spec.json` that also contains the trained model in SavedModel format e.g. generated by the following line:"
   ]
  },
  {
   "cell_type": "code",
   "execution_count": null,
   "metadata": {
    "id": "O1CCLSxhAsxf",
    "slideshow": {
     "slide_type": "fragment"
    }
   },
   "outputs": [],
   "source": [
    "# save the trained TF2.SavedModel as a folder structure\n",
    "# The folder + the JSON file can be also used to import the model in ZEN\n",
    "\n",
    "model.save('./saved_tf2_model_output/')"
   ]
  },
  {
   "cell_type": "code",
   "execution_count": null,
   "metadata": {
    "id": "KPCZdZoYAsxi",
    "slideshow": {
     "slide_type": "slide"
    }
   },
   "outputs": [],
   "source": [
    "# This is an additional way to create a CZANN from a saved TF2 model on disk + JSON file.\n",
    "# The currently recommended way to to create the CZANN directly by using czmodel.convert_from_model_spec\n",
    "# the path to the TF2.SavedModel folder is defined in the JSON shown above\n",
    "\n",
    "convert_from_json_spec(\n",
    "    model_spec_path='model_conversion_spec.json',\n",
    "    output_path='./',\n",
    "    output_name = 'simple_nuclei_segmodel_from_json',\n",
    "    spatial_dims=(input_size, input_size),\n",
    "    preprocessing=preprocessing\n",
    ")"
   ]
  },
  {
   "cell_type": "markdown",
   "metadata": {
    "id": "bu-S1tg_Asxi",
    "slideshow": {
     "slide_type": "skip"
    }
   },
   "source": [
    "Use the commands below from a terminal to present the notebook as a slideshow.\n",
    "\n",
    "`\n",
    "jupyter nbconvert SingleClassSemanticSegmentation_2_0_0.ipynb --to slides --post serve \n",
    "    --SlidesExporter.reveal_theme=serif \n",
    "    --SlidesExporter.reveal_scroll=True \n",
    "    --SlidesExporter.reveal_transition=none\n",
    "`"
   ]
  }
 ],
 "metadata": {
  "celltoolbar": "Slideshow",
  "colab": {
   "name": "SingleClassSemanticSegmentation_2_0_0.ipynb",
   "provenance": []
  },
  "kernelspec": {
   "display_name": "Python 3",
   "language": "python",
   "name": "python3"
  },
  "language_info": {
   "codemirror_mode": {
    "name": "ipython",
    "version": 3
   },
   "file_extension": ".py",
   "mimetype": "text/x-python",
   "name": "python",
   "nbconvert_exporter": "python",
   "pygments_lexer": "ipython3",
   "version": "3.7.10"
  }
 },
 "nbformat": 4,
 "nbformat_minor": 1
}
