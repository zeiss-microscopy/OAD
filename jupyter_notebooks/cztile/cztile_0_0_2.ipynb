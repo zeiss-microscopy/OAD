{
 "cells": [
  {
   "cell_type": "code",
   "execution_count": null,
   "outputs": [],
   "source": [
    "# Install cztile and dependencies\n",
    "! pip install --upgrade pip\n",
    "! pip install \"cztile>=0.0,<0.1\" matplotlib tqdm scikit-image requests numpy"
   ],
   "metadata": {
    "collapsed": false,
    "pycharm": {
     "name": "#%%\n"
    }
   }
  },
  {
   "cell_type": "markdown",
   "source": [
    "# cztile - Tutorial\n",
    "\n",
    "This notebook demonstrates how to use **[cztile](https://pypi.org/project/cztile/)** to tile an image."
   ],
   "metadata": {
    "collapsed": false,
    "pycharm": {
     "name": "#%% md\n"
    }
   }
  },
  {
   "cell_type": "code",
   "execution_count": null,
   "id": "57ecaa64",
   "metadata": {
    "slideshow": {
     "slide_type": "slide"
    }
   },
   "outputs": [],
   "source": [
    "import numpy as np\n",
    "import matplotlib.pyplot as plt\n",
    "from matplotlib.patches import Rectangle\n",
    "from skimage.filters import gaussian\n",
    "from tqdm import tqdm\n",
    "import random\n",
    "import os\n",
    "from skimage.io import imread\n",
    "\n",
    "# import the \"tiling strategy\" from the cztile package\n",
    "from cztile.fixed_total_area_strategy import AlmostEqualBorderFixedTotalAreaStrategy2D\n",
    "from cztile.tiling_strategy import Rectangle as czrect"
   ]
  },
  {
   "cell_type": "markdown",
   "id": "02a15531",
   "metadata": {
    "slideshow": {
     "slide_type": "slide"
    },
    "pycharm": {
     "name": "#%% md\n"
    }
   },
   "source": [
    "## Define parameters for data loading"
   ]
  },
  {
   "cell_type": "code",
   "execution_count": null,
   "outputs": [],
   "source": [
    "# Folder containing the input data\n",
    "INPUT_FOLDER = 'data/inputs/'\n",
    "\n",
    "# Path to the data on GitHub\n",
    "GITHUB_DATA_PATH = 'https://raw.githubusercontent.com/zeiss-microscopy/OAD/master/jupyter_notebooks/cztile/data.zip'"
   ],
   "metadata": {
    "collapsed": false,
    "pycharm": {
     "name": "#%%\n"
    }
   }
  },
  {
   "cell_type": "markdown",
   "source": [
    "## Download data if it's not available on disk\n",
    "If this notebook is run e.g. as a colab notebook, it does not have access to the data folder on GitHub via disk access. In that case we need to download the data from GitHub first."
   ],
   "metadata": {
    "collapsed": false,
    "pycharm": {
     "name": "#%% md\n"
    }
   }
  },
  {
   "cell_type": "code",
   "execution_count": null,
   "outputs": [],
   "source": [
    "import requests\n",
    "\n",
    "# Download training data\n",
    "if not (os.path.isdir(INPUT_FOLDER)):\n",
    "    compressed_data = './data.zip'\n",
    "    if not os.path.isfile(compressed_data):\n",
    "        import io\n",
    "        response = requests.get(GITHUB_DATA_PATH, stream=True)\n",
    "        compressed_data = io.BytesIO(response.content)\n",
    "\n",
    "    import zipfile\n",
    "    with zipfile.ZipFile(compressed_data, 'r') as zip_accessor:\n",
    "        zip_accessor.extractall('./')"
   ],
   "metadata": {
    "collapsed": false,
    "pycharm": {
     "name": "#%%\n"
    }
   }
  },
  {
   "cell_type": "code",
   "execution_count": null,
   "outputs": [],
   "source": [
    "# define the test image to be used\n",
    "filename = os.path.join(INPUT_FOLDER, \"nuclei.png\")\n",
    "img2d = imread(filename)"
   ],
   "metadata": {
    "collapsed": false,
    "pycharm": {
     "name": "#%%\n"
    }
   }
  },
  {
   "cell_type": "code",
   "execution_count": null,
   "id": "022ccab5",
   "metadata": {
    "slideshow": {
     "slide_type": "slide"
    }
   },
   "outputs": [],
   "source": [
    "# show the array shape\n",
    "print(\"2D Array Shape: \", img2d.shape)\n",
    "\n",
    "# create new array to \"hold\" the processed data\n",
    "processed_img2d = np.empty_like(img2d)"
   ]
  },
  {
   "cell_type": "code",
   "execution_count": null,
   "id": "b823c2d8",
   "metadata": {
    "slideshow": {
     "slide_type": "slide"
    }
   },
   "outputs": [],
   "source": [
    "# define a generic 2D processing function - could by a DL segmentation as well\n",
    "def process2d(image2d: np.ndarray, **kwargs: int) -> np.ndarray:\n",
    "\n",
    "    # insert or modify the desired processing function here\n",
    "    image2d = gaussian(image2d, sigma=kwargs[\"sigma\"],\n",
    "                       preserve_range=True,\n",
    "                       mode='nearest').astype(image2d.dtype)\n",
    "\n",
    "    return image2d"
   ]
  },
  {
   "cell_type": "code",
   "execution_count": null,
   "id": "3339545c",
   "metadata": {
    "slideshow": {
     "slide_type": "slide"
    }
   },
   "outputs": [],
   "source": [
    "# create the \"tiler\"\n",
    "tiler = AlmostEqualBorderFixedTotalAreaStrategy2D(total_tile_width=1200,\n",
    "                                                  total_tile_height=1000,\n",
    "                                                  min_border_width=128)\n",
    "\n",
    "# create the tiles\n",
    "tiles = tiler.tile_rectangle(czrect(x=0, y=0, w=img2d.shape[1], h=img2d.shape[0]))\n",
    "\n",
    "# show the tile locations\n",
    "for tile in tiles:\n",
    "    print(tile.roi.x, tile.roi.y, tile.roi.w, tile.roi.h)"
   ]
  },
  {
   "cell_type": "code",
   "execution_count": null,
   "id": "f1d01b35",
   "metadata": {
    "slideshow": {
     "slide_type": "slide"
    }
   },
   "outputs": [],
   "source": [
    "fig1, ax1 = plt.subplots(1, 4, figsize=(16, 8))\n",
    "fig2, ax2 = plt.subplots(1, 4, figsize=(16, 8))\n",
    "a = 0\n",
    "\n",
    "# iterate over all tiles and apply the processing\n",
    "for tile in tqdm(tiles):\n",
    "    \n",
    "    #print(tile.roi.x, tile.roi.y, tile.roi.w, tile.roi.h)\n",
    "\n",
    "    # get a single frame based on the tile coordinates and size\n",
    "    tile2d = img2d[tile.roi.y:tile.roi.y + tile.roi.h, tile.roi.x:tile.roi.x + tile.roi.w]\n",
    "\n",
    "    # do some processing here\n",
    "    tile2d_processed = process2d(tile2d, sigma=15)\n",
    "    \n",
    "    ax1[a].imshow(tile2d, interpolation=\"nearest\", cmap=\"gray\",vmin=100, vmax=2000)\n",
    "    ax1[a].set_title(\"Tile: \" + str(a))\n",
    "    ax2[a].imshow(tile2d_processed, interpolation=\"nearest\", cmap=\"gray\",vmin=100, vmax=2000)\n",
    "    ax2[a].set_title(\"Tile: \" + str(a))\n",
    "\n",
    "    # place frame inside the new image\n",
    "    processed_img2d[tile.roi.y:tile.roi.y + tile.roi.h, tile.roi.x:tile.roi.x + tile.roi.w] = tile2d_processed\n",
    "    \n",
    "    a += 1"
   ]
  },
  {
   "cell_type": "code",
   "execution_count": null,
   "id": "2f459cc2",
   "metadata": {
    "slideshow": {
     "slide_type": "slide"
    }
   },
   "outputs": [],
   "source": [
    "# show the results\n",
    "fig, (ax1, ax2) = plt.subplots(1, 2, figsize=(16, 8))\n",
    "ax1.imshow(img2d, interpolation=\"nearest\", cmap=\"gray\",vmin=100, vmax=2000)\n",
    "ax1.set_title('Original')\n",
    "ax2.imshow(processed_img2d, interpolation=\"nearest\", cmap=\"gray\",vmin=100, vmax=2000)\n",
    "ax2.set_title('Processed - TileWise')\n",
    "\n",
    "# define the tile to be shown\n",
    "tn = 0\n",
    " \n",
    "#add rectangle to plot\n",
    "ax1.add_patch(Rectangle((tiles[tn].roi.x, tiles[tn].roi.y), tiles[tn].roi.w, tiles[tn].roi.h,\n",
    "              edgecolor=\"red\",\n",
    "              fill=False,\n",
    "              lw=2,\n",
    "              ls=\"--\"))\n",
    "\n",
    "ax2.add_patch(Rectangle((tiles[tn].roi.x, tiles[tn].roi.y), tiles[tn].roi.w, tiles[tn].roi.h,\n",
    "              edgecolor=\"red\",\n",
    "              fill=False,\n",
    "              lw=2,\n",
    "              ls=\"--\"))\n",
    "\n",
    "# show the results\n",
    "fig, (ax3, ax4) = plt.subplots(1, 2, figsize=(16, 8))\n",
    "ax3.imshow(img2d, interpolation=\"nearest\", cmap=\"gray\",vmin=100, vmax=2000)\n",
    "ax3.set_title('Original')\n",
    "ax4.imshow(processed_img2d, interpolation=\"nearest\", cmap=\"gray\",vmin=100, vmax=2000)\n",
    "ax4.set_title('Processed - TileWise')\n",
    "\n",
    "\n",
    "edge_color_opacity = 1.0\n",
    "face_color_opacity = 0.7\n",
    "\n",
    "# visualize a single tile\n",
    "for tile in tiles:\n",
    "    \n",
    "    r = random.random()\n",
    "    b = random.random()\n",
    "    g = random.random()\n",
    "    edgecolor = (r, g, b, face_color_opacity)\n",
    "    facecolor = (r, g, b, face_color_opacity)\n",
    "    \n",
    "    # add rectangle to plot\n",
    "    ax3.add_patch(Rectangle((tile.roi.x, tile.roi.y), tile.roi.w, tile.roi.h,\n",
    "                  edgecolor=edgecolor,\n",
    "                  fill=False,\n",
    "                  lw=2,\n",
    "                  ls=\"--\"))\n",
    "\n",
    "    ax4.add_patch(Rectangle((tile.roi.x, tile.roi.y), tile.roi.w, tile.roi.h,\n",
    "                  edgecolor=(1, 1, 1, edge_color_opacity),\n",
    "                  facecolor=facecolor,          \n",
    "                  fill=True,\n",
    "                  lw=2,\n",
    "                  ls=\"--\"))"
   ]
  },
  {
   "cell_type": "code",
   "execution_count": null,
   "id": "b34acf97",
   "metadata": {},
   "outputs": [],
   "source": []
  }
 ],
 "metadata": {
  "celltoolbar": "Slideshow",
  "kernelspec": {
   "display_name": "Python 3 (ipykernel)",
   "language": "python",
   "name": "python3"
  },
  "language_info": {
   "codemirror_mode": {
    "name": "ipython",
    "version": 3
   },
   "file_extension": ".py",
   "mimetype": "text/x-python",
   "name": "python",
   "nbconvert_exporter": "python",
   "pygments_lexer": "ipython3",
   "version": "3.9.0"
  }
 },
 "nbformat": 4,
 "nbformat_minor": 5
}